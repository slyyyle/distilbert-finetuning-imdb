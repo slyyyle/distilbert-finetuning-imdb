{
 "cells": [
  {
   "cell_type": "code",
   "execution_count": 6,
   "metadata": {},
   "outputs": [
    {
     "name": "stdout",
     "output_type": "stream",
     "text": [
      "[pandas 2.0.1 (c:\\users\\khamm\\appdata\\local\\programs\\python\\python311\\lib\\site-packages), numpy 1.24.3 (c:\\users\\khamm\\appdata\\local\\programs\\python\\python311\\lib\\site-packages), numpy 1.24.3 (c:\\users\\khamm\\appdata\\local\\programs\\python\\python311\\lib\\site-packages), tzdata 2023.3 (c:\\users\\khamm\\appdata\\local\\programs\\python\\python311\\lib\\site-packages), pytz 2023.3 (c:\\users\\khamm\\appdata\\local\\programs\\python\\python311\\lib\\site-packages), python-dateutil 2.8.2 (c:\\users\\khamm\\appdata\\roaming\\python\\python311\\site-packages), six 1.16.0 (c:\\users\\khamm\\appdata\\roaming\\python\\python311\\site-packages)]\n",
      "[numpy 1.24.3 (c:\\users\\khamm\\appdata\\local\\programs\\python\\python311\\lib\\site-packages)]\n",
      "[scikit-learn 1.2.2 (c:\\users\\khamm\\appdata\\local\\programs\\python\\python311\\lib\\site-packages), threadpoolctl 3.1.0 (c:\\users\\khamm\\appdata\\local\\programs\\python\\python311\\lib\\site-packages), joblib 1.2.0 (c:\\users\\khamm\\appdata\\local\\programs\\python\\python311\\lib\\site-packages), scipy 1.10.1 (c:\\users\\khamm\\appdata\\local\\programs\\python\\python311\\lib\\site-packages), numpy 1.24.3 (c:\\users\\khamm\\appdata\\local\\programs\\python\\python311\\lib\\site-packages), numpy 1.24.3 (c:\\users\\khamm\\appdata\\local\\programs\\python\\python311\\lib\\site-packages)]\n",
      "[datasets 2.12.0 (c:\\users\\khamm\\appdata\\local\\programs\\python\\python311\\lib\\site-packages), PyYAML 6.0 (c:\\users\\khamm\\appdata\\local\\programs\\python\\python311\\lib\\site-packages), responses 0.18.0 (c:\\users\\khamm\\appdata\\local\\programs\\python\\python311\\lib\\site-packages), packaging 23.1 (c:\\users\\khamm\\appdata\\local\\programs\\python\\python311\\lib\\site-packages), huggingface-hub 0.14.1 (c:\\users\\khamm\\appdata\\local\\programs\\python\\python311\\lib\\site-packages), aiohttp 3.8.4 (c:\\users\\khamm\\appdata\\local\\programs\\python\\python311\\lib\\site-packages), fsspec 2023.5.0 (c:\\users\\khamm\\appdata\\local\\programs\\python\\python311\\lib\\site-packages), multiprocess 0.70.14 (c:\\users\\khamm\\appdata\\local\\programs\\python\\python311\\lib\\site-packages), xxhash 3.2.0 (c:\\users\\khamm\\appdata\\local\\programs\\python\\python311\\lib\\site-packages), tqdm 4.65.0 (c:\\users\\khamm\\appdata\\local\\programs\\python\\python311\\lib\\site-packages), requests 2.31.0 (c:\\users\\khamm\\appdata\\local\\programs\\python\\python311\\lib\\site-packages), pandas 2.0.1 (c:\\users\\khamm\\appdata\\local\\programs\\python\\python311\\lib\\site-packages), dill 0.3.6 (c:\\users\\khamm\\appdata\\local\\programs\\python\\python311\\lib\\site-packages), pyarrow 12.0.0 (c:\\users\\khamm\\appdata\\local\\programs\\python\\python311\\lib\\site-packages), numpy 1.24.3 (c:\\users\\khamm\\appdata\\local\\programs\\python\\python311\\lib\\site-packages), urllib3 1.26.16 (c:\\users\\khamm\\appdata\\local\\programs\\python\\python311\\lib\\site-packages), requests 2.31.0 (c:\\users\\khamm\\appdata\\local\\programs\\python\\python311\\lib\\site-packages), packaging 23.1 (c:\\users\\khamm\\appdata\\local\\programs\\python\\python311\\lib\\site-packages), typing-extensions 4.6.0 (c:\\users\\khamm\\appdata\\local\\programs\\python\\python311\\lib\\site-packages), tqdm 4.65.0 (c:\\users\\khamm\\appdata\\local\\programs\\python\\python311\\lib\\site-packages), requests 2.31.0 (c:\\users\\khamm\\appdata\\local\\programs\\python\\python311\\lib\\site-packages), fsspec 2023.5.0 (c:\\users\\khamm\\appdata\\local\\programs\\python\\python311\\lib\\site-packages), filelock 3.12.0 (c:\\users\\khamm\\appdata\\local\\programs\\python\\python311\\lib\\site-packages), aiosignal 1.3.1 (c:\\users\\khamm\\appdata\\local\\programs\\python\\python311\\lib\\site-packages), frozenlist 1.3.3 (c:\\users\\khamm\\appdata\\local\\programs\\python\\python311\\lib\\site-packages), yarl 1.9.2 (c:\\users\\khamm\\appdata\\local\\programs\\python\\python311\\lib\\site-packages), async-timeout 4.0.2 (c:\\users\\khamm\\appdata\\local\\programs\\python\\python311\\lib\\site-packages), multidict 6.0.4 (c:\\users\\khamm\\appdata\\local\\programs\\python\\python311\\lib\\site-packages), charset-normalizer 3.1.0 (c:\\users\\khamm\\appdata\\local\\programs\\python\\python311\\lib\\site-packages), attrs 23.1.0 (c:\\users\\khamm\\appdata\\local\\programs\\python\\python311\\lib\\site-packages), aiohttp 3.8.4 (c:\\users\\khamm\\appdata\\local\\programs\\python\\python311\\lib\\site-packages), requests 2.31.0 (c:\\users\\khamm\\appdata\\local\\programs\\python\\python311\\lib\\site-packages), dill 0.3.6 (c:\\users\\khamm\\appdata\\local\\programs\\python\\python311\\lib\\site-packages), colorama 0.4.6 (c:\\users\\khamm\\appdata\\roaming\\python\\python311\\site-packages), certifi 2023.5.7 (c:\\users\\khamm\\appdata\\local\\programs\\python\\python311\\lib\\site-packages), urllib3 1.26.16 (c:\\users\\khamm\\appdata\\local\\programs\\python\\python311\\lib\\site-packages), idna 3.4 (c:\\users\\khamm\\appdata\\local\\programs\\python\\python311\\lib\\site-packages), numpy 1.24.3 (c:\\users\\khamm\\appdata\\local\\programs\\python\\python311\\lib\\site-packages), numpy 1.24.3 (c:\\users\\khamm\\appdata\\local\\programs\\python\\python311\\lib\\site-packages), tzdata 2023.3 (c:\\users\\khamm\\appdata\\local\\programs\\python\\python311\\lib\\site-packages), pytz 2023.3 (c:\\users\\khamm\\appdata\\local\\programs\\python\\python311\\lib\\site-packages), python-dateutil 2.8.2 (c:\\users\\khamm\\appdata\\roaming\\python\\python311\\site-packages), numpy 1.24.3 (c:\\users\\khamm\\appdata\\local\\programs\\python\\python311\\lib\\site-packages), frozenlist 1.3.3 (c:\\users\\khamm\\appdata\\local\\programs\\python\\python311\\lib\\site-packages), idna 3.4 (c:\\users\\khamm\\appdata\\local\\programs\\python\\python311\\lib\\site-packages), multidict 6.0.4 (c:\\users\\khamm\\appdata\\local\\programs\\python\\python311\\lib\\site-packages), six 1.16.0 (c:\\users\\khamm\\appdata\\roaming\\python\\python311\\site-packages)]\n",
      "[transformers 4.28.0 (c:\\users\\khamm\\appdata\\local\\programs\\python\\python311\\lib\\site-packages), tqdm 4.65.0 (c:\\users\\khamm\\appdata\\local\\programs\\python\\python311\\lib\\site-packages), tokenizers 0.13.3 (c:\\users\\khamm\\appdata\\local\\programs\\python\\python311\\lib\\site-packages), requests 2.31.0 (c:\\users\\khamm\\appdata\\local\\programs\\python\\python311\\lib\\site-packages), regex 2023.5.5 (c:\\users\\khamm\\appdata\\local\\programs\\python\\python311\\lib\\site-packages), PyYAML 6.0 (c:\\users\\khamm\\appdata\\local\\programs\\python\\python311\\lib\\site-packages), packaging 23.1 (c:\\users\\khamm\\appdata\\local\\programs\\python\\python311\\lib\\site-packages), numpy 1.24.3 (c:\\users\\khamm\\appdata\\local\\programs\\python\\python311\\lib\\site-packages), huggingface-hub 0.14.1 (c:\\users\\khamm\\appdata\\local\\programs\\python\\python311\\lib\\site-packages), filelock 3.12.0 (c:\\users\\khamm\\appdata\\local\\programs\\python\\python311\\lib\\site-packages), colorama 0.4.6 (c:\\users\\khamm\\appdata\\roaming\\python\\python311\\site-packages), certifi 2023.5.7 (c:\\users\\khamm\\appdata\\local\\programs\\python\\python311\\lib\\site-packages), urllib3 1.26.16 (c:\\users\\khamm\\appdata\\local\\programs\\python\\python311\\lib\\site-packages), idna 3.4 (c:\\users\\khamm\\appdata\\local\\programs\\python\\python311\\lib\\site-packages), charset-normalizer 3.1.0 (c:\\users\\khamm\\appdata\\local\\programs\\python\\python311\\lib\\site-packages), packaging 23.1 (c:\\users\\khamm\\appdata\\local\\programs\\python\\python311\\lib\\site-packages), typing-extensions 4.6.0 (c:\\users\\khamm\\appdata\\local\\programs\\python\\python311\\lib\\site-packages), tqdm 4.65.0 (c:\\users\\khamm\\appdata\\local\\programs\\python\\python311\\lib\\site-packages), fsspec 2023.5.0 (c:\\users\\khamm\\appdata\\local\\programs\\python\\python311\\lib\\site-packages)]\n",
      "[huggingface-hub 0.14.1 (c:\\users\\khamm\\appdata\\local\\programs\\python\\python311\\lib\\site-packages), packaging 23.1 (c:\\users\\khamm\\appdata\\local\\programs\\python\\python311\\lib\\site-packages), typing-extensions 4.6.0 (c:\\users\\khamm\\appdata\\local\\programs\\python\\python311\\lib\\site-packages), PyYAML 6.0 (c:\\users\\khamm\\appdata\\local\\programs\\python\\python311\\lib\\site-packages), tqdm 4.65.0 (c:\\users\\khamm\\appdata\\local\\programs\\python\\python311\\lib\\site-packages), requests 2.31.0 (c:\\users\\khamm\\appdata\\local\\programs\\python\\python311\\lib\\site-packages), fsspec 2023.5.0 (c:\\users\\khamm\\appdata\\local\\programs\\python\\python311\\lib\\site-packages), filelock 3.12.0 (c:\\users\\khamm\\appdata\\local\\programs\\python\\python311\\lib\\site-packages), colorama 0.4.6 (c:\\users\\khamm\\appdata\\roaming\\python\\python311\\site-packages), certifi 2023.5.7 (c:\\users\\khamm\\appdata\\local\\programs\\python\\python311\\lib\\site-packages), urllib3 1.26.16 (c:\\users\\khamm\\appdata\\local\\programs\\python\\python311\\lib\\site-packages), idna 3.4 (c:\\users\\khamm\\appdata\\local\\programs\\python\\python311\\lib\\site-packages), charset-normalizer 3.1.0 (c:\\users\\khamm\\appdata\\local\\programs\\python\\python311\\lib\\site-packages)]\n",
      "[transformers 4.28.0 (c:\\users\\khamm\\appdata\\local\\programs\\python\\python311\\lib\\site-packages), tqdm 4.65.0 (c:\\users\\khamm\\appdata\\local\\programs\\python\\python311\\lib\\site-packages), tokenizers 0.13.3 (c:\\users\\khamm\\appdata\\local\\programs\\python\\python311\\lib\\site-packages), requests 2.31.0 (c:\\users\\khamm\\appdata\\local\\programs\\python\\python311\\lib\\site-packages), regex 2023.5.5 (c:\\users\\khamm\\appdata\\local\\programs\\python\\python311\\lib\\site-packages), PyYAML 6.0 (c:\\users\\khamm\\appdata\\local\\programs\\python\\python311\\lib\\site-packages), packaging 23.1 (c:\\users\\khamm\\appdata\\local\\programs\\python\\python311\\lib\\site-packages), numpy 1.24.3 (c:\\users\\khamm\\appdata\\local\\programs\\python\\python311\\lib\\site-packages), huggingface-hub 0.14.1 (c:\\users\\khamm\\appdata\\local\\programs\\python\\python311\\lib\\site-packages), filelock 3.12.0 (c:\\users\\khamm\\appdata\\local\\programs\\python\\python311\\lib\\site-packages), colorama 0.4.6 (c:\\users\\khamm\\appdata\\roaming\\python\\python311\\site-packages), certifi 2023.5.7 (c:\\users\\khamm\\appdata\\local\\programs\\python\\python311\\lib\\site-packages), urllib3 1.26.16 (c:\\users\\khamm\\appdata\\local\\programs\\python\\python311\\lib\\site-packages), idna 3.4 (c:\\users\\khamm\\appdata\\local\\programs\\python\\python311\\lib\\site-packages), charset-normalizer 3.1.0 (c:\\users\\khamm\\appdata\\local\\programs\\python\\python311\\lib\\site-packages), packaging 23.1 (c:\\users\\khamm\\appdata\\local\\programs\\python\\python311\\lib\\site-packages), typing-extensions 4.6.0 (c:\\users\\khamm\\appdata\\local\\programs\\python\\python311\\lib\\site-packages), tqdm 4.65.0 (c:\\users\\khamm\\appdata\\local\\programs\\python\\python311\\lib\\site-packages), fsspec 2023.5.0 (c:\\users\\khamm\\appdata\\local\\programs\\python\\python311\\lib\\site-packages)]\n",
      "[torch 2.0.1+cu118 (c:\\users\\khamm\\appdata\\local\\programs\\python\\python311\\lib\\site-packages), Jinja2 3.1.2 (c:\\users\\khamm\\appdata\\local\\programs\\python\\python311\\lib\\site-packages), networkx 3.1 (c:\\users\\khamm\\appdata\\local\\programs\\python\\python311\\lib\\site-packages), sympy 1.12 (c:\\users\\khamm\\appdata\\local\\programs\\python\\python311\\lib\\site-packages), typing-extensions 4.6.0 (c:\\users\\khamm\\appdata\\local\\programs\\python\\python311\\lib\\site-packages), filelock 3.12.0 (c:\\users\\khamm\\appdata\\local\\programs\\python\\python311\\lib\\site-packages), MarkupSafe 2.1.2 (c:\\users\\khamm\\appdata\\local\\programs\\python\\python311\\lib\\site-packages), mpmath 1.3.0 (c:\\users\\khamm\\appdata\\local\\programs\\python\\python311\\lib\\site-packages)]\n"
     ]
    }
   ],
   "source": [
    "import pandas as pd\n",
    "import numpy as np\n",
    "from sklearn.model_selection import train_test_split\n",
    "from datasets import Dataset, DatasetDict, load_dataset, load_metric\n",
    "from transformers import AutoTokenizer, DataCollatorWithPadding, AutoModelForSequenceClassification, TrainingArguments, Trainer\n",
    "from huggingface_hub import notebook_login\n",
    "\n",
    "import pkg_resources\n",
    "packages = ['pandas','numpy','scikit-learn','datasets','transformers','huggingface_hub','transformers','torch']\n",
    "for package in packages:\n",
    "    print(pkg_resources.require(package))"
   ]
  },
  {
   "attachments": {},
   "cell_type": "markdown",
   "metadata": {},
   "source": [
    "To refamiliarize with DatasetDicts and Dataset objects for transformers, let's take a look:"
   ]
  },
  {
   "cell_type": "code",
   "execution_count": null,
   "metadata": {},
   "outputs": [],
   "source": [
    "imdb = load_dataset('imdb')\n",
    "example = imdb[\"train\"].shuffle(seed=42).select([i for i in list(range(3000))])\n",
    "example"
   ]
  },
  {
   "attachments": {},
   "cell_type": "markdown",
   "metadata": {},
   "source": [
    "Clear out the memory for our use case:"
   ]
  },
  {
   "cell_type": "code",
   "execution_count": null,
   "metadata": {},
   "outputs": [],
   "source": [
    "del imdb\n",
    "del example"
   ]
  },
  {
   "attachments": {},
   "cell_type": "markdown",
   "metadata": {},
   "source": [
    "I wanted to forgo using load_dataset because many real world problems will not have training data all prepackaged.  \n",
    "This is actually my biggest gripe with computer vision tutorials, is that everything is already pre-cleaned for you.  \n",
    "I will create my own instead, which will also allow me to change how I split the dataset into train and test."
   ]
  },
  {
   "cell_type": "code",
   "execution_count": null,
   "metadata": {},
   "outputs": [],
   "source": [
    "imdb = pd.read_csv('IMDB Dataset.csv')\n",
    "x = imdb['review']\n",
    "y = imdb['sentiment']\n",
    "df_length = len(x)"
   ]
  },
  {
   "cell_type": "code",
   "execution_count": null,
   "metadata": {},
   "outputs": [],
   "source": [
    "x_train, x_test, y_train, y_test = train_test_split(x,y,test_size=0.20,random_state=42)\n",
    "train_df = pd.DataFrame({'text':x_train,'label':y_train})\n",
    "test_df = pd.DataFrame({'text':x_test, 'label':y_test})\n",
    "unsupervised_df = imdb[['review','sentiment']].rename(columns={'review': 'text', 'sentiment':'label'})"
   ]
  },
  {
   "cell_type": "code",
   "execution_count": null,
   "metadata": {},
   "outputs": [],
   "source": [
    "#matching the format of a typical huggingface DatasetDict\n",
    "train_dataset = Dataset.from_pandas(train_df).remove_columns('__index_level_0__')\n",
    "test_dataset = Dataset.from_pandas(test_df).remove_columns('__index_level_0__')\n",
    "unsupervised_dataset = Dataset.from_pandas(unsupervised_df)\n",
    "\n",
    "dataset_dict = DatasetDict({'train': train_dataset, 'test':test_dataset, 'unsupervised':unsupervised_dataset})\n",
    "dataset_dict"
   ]
  },
  {
   "attachments": {},
   "cell_type": "markdown",
   "metadata": {},
   "source": [
    "Now that we have an object that the transformers package expects, we can continue.  \n",
    "Also, we now have code that we can repurpose for custom datasets."
   ]
  },
  {
   "cell_type": "code",
   "execution_count": null,
   "metadata": {},
   "outputs": [],
   "source": [
    "tokenizer = AutoTokenizer.from_pretrained(\"distilbert-base-uncased\")"
   ]
  },
  {
   "cell_type": "code",
   "execution_count": null,
   "metadata": {},
   "outputs": [],
   "source": [
    "def preprocess_function(examples):\n",
    "   return tokenizer(examples[\"text\"], truncation=True)\n",
    " \n",
    "tokenized_train = dataset_dict['train'].map(preprocess_function, batched=True)\n",
    "tokenized_test = dataset_dict['train'].map(preprocess_function, batched=True)\n",
    "\n",
    "data_collator = DataCollatorWithPadding(tokenizer=tokenizer)"
   ]
  },
  {
   "cell_type": "code",
   "execution_count": null,
   "metadata": {},
   "outputs": [],
   "source": [
    "model = AutoModelForSequenceClassification.from_pretrained(\"distilbert-base-uncased\", num_labels=2)\n",
    "model.to(device)"
   ]
  },
  {
   "attachments": {},
   "cell_type": "markdown",
   "metadata": {},
   "source": [
    "Taking heed to the warning, this is expected given we are changing the output layer to 2 possible labels."
   ]
  },
  {
   "attachments": {},
   "cell_type": "markdown",
   "metadata": {},
   "source": [
    "Now let's define our metrics (I am adding loss as I don't understand why the example does not include this):"
   ]
  },
  {
   "cell_type": "code",
   "execution_count": null,
   "metadata": {},
   "outputs": [],
   "source": [
    "def compute_metrics(eval_pred):\n",
    "   load_accuracy = load_metric(\"accuracy\")\n",
    "   load_f1 = load_metric(\"f1\")\n",
    "\n",
    "   logits, labels = eval_pred\n",
    "   predictions = np.argmax(logits, axis=-1)\n",
    "   accuracy = load_accuracy.compute(predictions=predictions, references=labels)[\"accuracy\"]\n",
    "   f1 = load_f1.compute(predictions=predictions, references=labels)[\"f1\"]\n",
    "   return {\"accuracy\": accuracy,\"f1\": f1}"
   ]
  },
  {
   "attachments": {},
   "cell_type": "markdown",
   "metadata": {},
   "source": []
  },
  {
   "cell_type": "code",
   "execution_count": null,
   "metadata": {},
   "outputs": [],
   "source": [
    "from huggingface_hub import notebook_login\n",
    "notebook_login()"
   ]
  },
  {
   "attachments": {},
   "cell_type": "markdown",
   "metadata": {},
   "source": [
    "Let's train for 10 epochs"
   ]
  },
  {
   "cell_type": "code",
   "execution_count": 27,
   "metadata": {},
   "outputs": [
    {
     "name": "stderr",
     "output_type": "stream",
     "text": [
      "c:\\Git Repos\\Text Sentiment Analysis\\finetuning-sentiment-model-imdb-full is already a clone of https://huggingface.co/slyle/finetuning-sentiment-model-imdb-full. Make sure you pull the latest changes with `repo.git_pull()`.\n"
     ]
    }
   ],
   "source": [
    "repo_name = \"finetuning-sentiment-model-imdb-full\"\n",
    " \n",
    "training_args = TrainingArguments(\n",
    "   output_dir=repo_name,\n",
    "   learning_rate=2e-5,\n",
    "   per_device_train_batch_size=16,\n",
    "   per_device_eval_batch_size=16,\n",
    "   num_train_epochs=5,\n",
    "   weight_decay=0.01,\n",
    "   save_strategy=\"epoch\",\n",
    "   push_to_hub=True,\n",
    "   fp16=True\n",
    ")\n",
    " \n",
    "trainer = Trainer(\n",
    "   model=model,\n",
    "   args=training_args,\n",
    "   train_dataset=tokenized_train,\n",
    "   eval_dataset=tokenized_test,\n",
    "   tokenizer=tokenizer,\n",
    "   data_collator=data_collator,\n",
    "   compute_metrics=compute_metrics,\n",
    ")"
   ]
  },
  {
   "cell_type": "code",
   "execution_count": null,
   "metadata": {},
   "outputs": [],
   "source": [
    "trainer.train()"
   ]
  },
  {
   "cell_type": "code",
   "execution_count": 28,
   "metadata": {},
   "outputs": [
    {
     "data": {
      "application/vnd.jupyter.widget-view+json": {
       "model_id": "aee8eb1bdb5647638afb8ee0538ebda8",
       "version_major": 2,
       "version_minor": 0
      },
      "text/plain": [
       "  0%|          | 0/2500 [00:00<?, ?it/s]"
      ]
     },
     "metadata": {},
     "output_type": "display_data"
    },
    {
     "data": {
      "text/plain": [
       "{'eval_loss': 0.014594823122024536,\n",
       " 'eval_accuracy': 0.997275,\n",
       " 'eval_f1': 0.9972722040091093,\n",
       " 'eval_runtime': 114.1887,\n",
       " 'eval_samples_per_second': 350.298,\n",
       " 'eval_steps_per_second': 21.894}"
      ]
     },
     "execution_count": 28,
     "metadata": {},
     "output_type": "execute_result"
    }
   ],
   "source": [
    "trainer.evaluate()"
   ]
  },
  {
   "cell_type": "code",
   "execution_count": 31,
   "metadata": {},
   "outputs": [
    {
     "data": {
      "text/plain": [
       "[{'label': 'LABEL_0', 'score': 0.9996275901794434},\n",
       " {'label': 'LABEL_1', 'score': 0.9362053871154785}]"
      ]
     },
     "execution_count": 31,
     "metadata": {},
     "output_type": "execute_result"
    }
   ],
   "source": [
    "from transformers import pipeline\n",
    " \n",
    "sentiment_model = pipeline(model=\"slyle/finetuning-sentiment-model-imdb-full\")\n",
    "sentiment_model([\"I wish this movie had more action.  If there was more action, it'd be good.  But as it stands, this movie left a lot to be desired.  I wouldn't watch it again.\", \"This movie was okay, and I'd watch it again.  I think there was enough in it to make it interesting and fun.\"])"
   ]
  },
  {
   "cell_type": "code",
   "execution_count": null,
   "metadata": {},
   "outputs": [],
   "source": []
  }
 ],
 "metadata": {
  "kernelspec": {
   "display_name": "Python 3",
   "language": "python",
   "name": "python3"
  },
  "language_info": {
   "codemirror_mode": {
    "name": "ipython",
    "version": 3
   },
   "file_extension": ".py",
   "mimetype": "text/x-python",
   "name": "python",
   "nbconvert_exporter": "python",
   "pygments_lexer": "ipython3",
   "version": "3.11.3"
  },
  "orig_nbformat": 4
 },
 "nbformat": 4,
 "nbformat_minor": 2
}
